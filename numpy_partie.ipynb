{
 "cells": [
  {
   "cell_type": "code",
   "execution_count": 1,
   "id": "5aa03639-c208-4d1e-8b21-f19ec9635b52",
   "metadata": {
    "scrolled": true,
    "tags": []
   },
   "outputs": [],
   "source": [
    "import numpy as np"
   ]
  },
  {
   "cell_type": "markdown",
   "id": "924b1af7-6118-4073-b5ef-ab9f3a4124bf",
   "metadata": {},
   "source": [
    "# Question 1 :\n",
    "* Écrire un programme qui produit un tableau à une dimension avec 100 éléments qui sont les nombres pairs entre 2 et 200"
   ]
  },
  {
   "cell_type": "code",
   "execution_count": 2,
   "id": "57d08815-5a30-4684-a97c-016c444c5f88",
   "metadata": {
    "tags": []
   },
   "outputs": [],
   "source": [
    "tab=np.arange(2,201,2)"
   ]
  },
  {
   "cell_type": "code",
   "execution_count": 3,
   "id": "6e53b027-9ab7-4635-8403-3b4fa3bb2316",
   "metadata": {
    "tags": []
   },
   "outputs": [
    {
     "data": {
      "text/plain": [
       "array([  2,   4,   6,   8,  10,  12,  14,  16,  18,  20,  22,  24,  26,\n",
       "        28,  30,  32,  34,  36,  38,  40,  42,  44,  46,  48,  50,  52,\n",
       "        54,  56,  58,  60,  62,  64,  66,  68,  70,  72,  74,  76,  78,\n",
       "        80,  82,  84,  86,  88,  90,  92,  94,  96,  98, 100, 102, 104,\n",
       "       106, 108, 110, 112, 114, 116, 118, 120, 122, 124, 126, 128, 130,\n",
       "       132, 134, 136, 138, 140, 142, 144, 146, 148, 150, 152, 154, 156,\n",
       "       158, 160, 162, 164, 166, 168, 170, 172, 174, 176, 178, 180, 182,\n",
       "       184, 186, 188, 190, 192, 194, 196, 198, 200])"
      ]
     },
     "execution_count": 3,
     "metadata": {},
     "output_type": "execute_result"
    }
   ],
   "source": [
    "tab"
   ]
  },
  {
   "cell_type": "code",
   "execution_count": 4,
   "id": "e78d0f69-8b0d-40f0-bd59-dad0e3772a41",
   "metadata": {
    "tags": []
   },
   "outputs": [
    {
     "data": {
      "text/plain": [
       "100"
      ]
     },
     "execution_count": 4,
     "metadata": {},
     "output_type": "execute_result"
    }
   ],
   "source": [
    "len(tab)"
   ]
  },
  {
   "cell_type": "markdown",
   "id": "b932a8ba-dce1-4073-8191-bda319d5385f",
   "metadata": {
    "tags": []
   },
   "source": [
    "# Question 2\n",
    "*  Créez un tableau NumPy de taille 10X10 qui représente la table de multiplication"
   ]
  },
  {
   "cell_type": "code",
   "execution_count": 5,
   "id": "228a3c87-3cb7-4686-bbd3-3238cf9b403d",
   "metadata": {
    "tags": []
   },
   "outputs": [],
   "source": [
    "# la meilleur methode: np.fromfunction (voir le help)\n",
    "# nous on va cree un tableau 10x10 que l'on va remplir avec une boucle for \n",
    "# on privilegie les solutions a haut apport algorithmique"
   ]
  },
  {
   "cell_type": "code",
   "execution_count": 6,
   "id": "510d62f8-1f39-4aaf-a54c-d309d75ba75a",
   "metadata": {
    "tags": []
   },
   "outputs": [],
   "source": [
    "tab_mult=np.zeros((10,10),dtype=int)\n",
    "for i in range(1,11):\n",
    "    for j in range(1,11):\n",
    "        tab_mult[i-1,j-1]=i*j\n"
   ]
  },
  {
   "cell_type": "code",
   "execution_count": 7,
   "id": "089510e8-94a4-4897-9ea5-b27028fdeb93",
   "metadata": {
    "tags": []
   },
   "outputs": [
    {
     "data": {
      "text/plain": [
       "array([[  1,   2,   3,   4,   5,   6,   7,   8,   9,  10],\n",
       "       [  2,   4,   6,   8,  10,  12,  14,  16,  18,  20],\n",
       "       [  3,   6,   9,  12,  15,  18,  21,  24,  27,  30],\n",
       "       [  4,   8,  12,  16,  20,  24,  28,  32,  36,  40],\n",
       "       [  5,  10,  15,  20,  25,  30,  35,  40,  45,  50],\n",
       "       [  6,  12,  18,  24,  30,  36,  42,  48,  54,  60],\n",
       "       [  7,  14,  21,  28,  35,  42,  49,  56,  63,  70],\n",
       "       [  8,  16,  24,  32,  40,  48,  56,  64,  72,  80],\n",
       "       [  9,  18,  27,  36,  45,  54,  63,  72,  81,  90],\n",
       "       [ 10,  20,  30,  40,  50,  60,  70,  80,  90, 100]])"
      ]
     },
     "execution_count": 7,
     "metadata": {},
     "output_type": "execute_result"
    }
   ],
   "source": [
    "tab_mult"
   ]
  },
  {
   "cell_type": "markdown",
   "id": "ab42062e-d391-4410-9615-bb6bcb7159a1",
   "metadata": {},
   "source": [
    "# Question 3\n",
    "* À partir du tableau de la table de multiplication de la question 2, affichez que les diagonales (c'est-à-dire uniquement les nombres 1, 4, 9, 16 et ainsi de suite). Utilisez le masque booléen"
   ]
  },
  {
   "cell_type": "code",
   "execution_count": 8,
   "id": "4e34f129-2347-4ca6-a606-fc11ef0c5106",
   "metadata": {
    "tags": []
   },
   "outputs": [],
   "source": [
    "# puisque 0==False et 1==True \n",
    "#        on convertie la matrice identite en matrice booleen \n",
    "#           ce serra elle notre masque booleen"
   ]
  },
  {
   "cell_type": "code",
   "execution_count": 9,
   "id": "49a6d9e6-ff54-4bc8-8ff6-3734e41ae037",
   "metadata": {
    "tags": []
   },
   "outputs": [],
   "source": [
    "masque=np.eye(10).astype(bool) \n",
    "diag_mult=tab_mult[masque]"
   ]
  },
  {
   "cell_type": "code",
   "execution_count": 10,
   "id": "952daf64-7bb1-4e59-a0ba-ecd5919757ac",
   "metadata": {
    "tags": []
   },
   "outputs": [
    {
     "data": {
      "text/plain": [
       "array([  1,   4,   9,  16,  25,  36,  49,  64,  81, 100])"
      ]
     },
     "execution_count": 10,
     "metadata": {},
     "output_type": "execute_result"
    }
   ],
   "source": [
    "diag_mult"
   ]
  },
  {
   "cell_type": "markdown",
   "id": "4717b45f-27e9-400a-834c-74277034ebbf",
   "metadata": {
    "tags": []
   },
   "source": [
    "# Question 4\n",
    "* Construisez un tableau de 10 entiers sélectionnés au hasard (entre 1 à 100) et affichez uniquement les nombres impairs."
   ]
  },
  {
   "cell_type": "code",
   "execution_count": 11,
   "id": "1a6948aa-5e77-4683-a5a8-f2b93b11ac80",
   "metadata": {
    "tags": []
   },
   "outputs": [],
   "source": [
    "tab_random=np.random.randint(1,101,size=10)"
   ]
  },
  {
   "cell_type": "code",
   "execution_count": 12,
   "id": "82223b03-44ea-4f4d-ab7b-bc726829aae3",
   "metadata": {
    "tags": []
   },
   "outputs": [
    {
     "name": "stdout",
     "output_type": "stream",
     "text": [
      "Tableau aleatoire :\t [ 1 44 26 40  7 31 16 25  3 72]\n",
      " elements impaires:  \t [ 1  7 31 25  3]\n"
     ]
    }
   ],
   "source": [
    "print(f\"Tableau aleatoire :\\t {tab_random}\")# les fstring sont tres pratique, faire une recherche google\n",
    "print(f\" elements impaires:  \\t {tab_random[tab_random %2==1]}\")"
   ]
  },
  {
   "cell_type": "markdown",
   "id": "5c1cb9b8-f0bd-47a9-a2f4-1a1eb9d6e477",
   "metadata": {},
   "source": [
    "# Question 5\n",
    "* Construisez un tableau de 10 entiers sélectionnés au hasard (entre 1 à 100) et trouvez le plus petit nombre supérieur à 50"
   ]
  },
  {
   "cell_type": "code",
   "execution_count": 13,
   "id": "47e6c7b0-787a-4711-a4ca-d0b3e891689e",
   "metadata": {
    "tags": []
   },
   "outputs": [],
   "source": [
    "# methode 1\n",
    "#  filtrer notre tableau avec les masques  booleen \n",
    "#        et laisser np.min faire le reste\n",
    "# methode 2 on privilegie les algorithmes"
   ]
  },
  {
   "cell_type": "code",
   "execution_count": 14,
   "id": "00f03f28-3a08-4151-9a4d-df9a3372fa37",
   "metadata": {
    "tags": []
   },
   "outputs": [],
   "source": [
    "tab_random=np.random.randint(1,101,size=10)\n",
    "my_min=np.nan # essentiellement c'est pour le cas << tous les elements <50 >> , toute valeur negative conviendrais aussi ..."
   ]
  },
  {
   "cell_type": "code",
   "execution_count": 15,
   "id": "3d9249fd-2709-4472-9d66-59548e15ba6e",
   "metadata": {
    "tags": []
   },
   "outputs": [],
   "source": [
    "for i in tab_random:\n",
    "    if i>=50 and (np.isnan(my_min)or i<my_min):\n",
    "        my_min=i\n",
    "        # si i >=50 et que c'est le premier de ceux la qu'on rencontre, \n",
    "        #     alors my_min=i\n",
    "        # si i>=50 et que il est plus petit que notre min actuel,\n",
    "        #     alors il prend sa place"
   ]
  },
  {
   "cell_type": "code",
   "execution_count": 16,
   "id": "0e49961c-9560-4c32-81b2-75fcf0c07a7c",
   "metadata": {
    "scrolled": true,
    "tags": []
   },
   "outputs": [
    {
     "name": "stdout",
     "output_type": "stream",
     "text": [
      "tableau alleatoire:\t [58 56 35 36 74 26 26 27 37 15]\n",
      " le plus petit element >=50 est ===> \t  56\n"
     ]
    }
   ],
   "source": [
    "print(f\"tableau alleatoire:\\t {tab_random}\")\n",
    "if not (np.isnan(my_min)): # en gros si my_min n'est pas un nan\n",
    "    print(f\" le plus petit element >=50 est ===> \\t  {my_min}\")\n",
    "else:\n",
    "    print(\"pas de candidat >=50 :===> !!!!!!!!!! \\t\")"
   ]
  },
  {
   "cell_type": "markdown",
   "id": "50464900-105e-4465-a009-a015d50ecd98",
   "metadata": {
    "tags": []
   },
   "source": [
    "# Question 6\n",
    "* Construisez un tableau de 10 entiers choisis au hasard (entre 1 à 100) et trouvez les cinq plus grands nombres."
   ]
  },
  {
   "cell_type": "code",
   "execution_count": 17,
   "id": "8edeb355-26aa-467b-ad89-db02d0d19566",
   "metadata": {
    "tags": []
   },
   "outputs": [],
   "source": [
    "# la encore 2 methodes\n",
    "#   methode 2 :  \n",
    "#    on parcour 5 fois pour trouver 5 max\n",
    "#        on s'assure que l'on trouve pas le meme max plusieurs fois sauf si l'element est duplique dans tab_random"
   ]
  },
  {
   "cell_type": "code",
   "execution_count": 18,
   "id": "7b83edbf-e657-4271-821a-19e18986607e",
   "metadata": {
    "tags": []
   },
   "outputs": [],
   "source": [
    "tab_random=np.random.randint(1,101,size=10)\n",
    "#  le cas <<doublons>> rend le code delicat\n",
    "# pour s'en rendre compte prendre :<< tab_random=np.array([2,4,5,8,5,8,8,4,4,1]) >>"
   ]
  },
  {
   "cell_type": "code",
   "execution_count": 19,
   "id": "ff383633-7071-48a6-b869-864480f4a3f2",
   "metadata": {
    "tags": []
   },
   "outputs": [],
   "source": [
    "tab_max_5=np.zeros(shape=5,dtype=np.int32)\n",
    "copy_tab=np.copy(tab_random) # on va <<supprimer>> des elements,il faut donc surtout pas prendre une vue du tab\n",
    "for ind_5 in range (5):       #    supprimmer = remplacer par -1\n",
    "    nb_max=-1 #on exploite le fait que les elements du tab sont >=0\n",
    "    tmp_max=0 # pour me stocker l'indice de mon max ...\n",
    "    for i in range(copy_tab.size):\n",
    "        if copy_tab[i]> nb_max :\n",
    "            nb_max=copy_tab[i] # A ameliorer:Comment trouvr l'indice du premier occurence d'un element ? la methode .where me fait n'importe quoi\n",
    "            tmp_max=i\n",
    "    copy_tab[tmp_max]=-1 # chaque max trouve deviens -1\n",
    "    if nb_max !=-1:\n",
    "            tab_max_5[ind_5]=nb_max"
   ]
  },
  {
   "cell_type": "code",
   "execution_count": 20,
   "id": "12b85717-0652-4e99-a79e-b235cb37d3d1",
   "metadata": {
    "tags": []
   },
   "outputs": [
    {
     "name": "stdout",
     "output_type": "stream",
     "text": [
      " Tableau de depart: \t[90 59 96 71 56 54 37  1 24 79]\n"
     ]
    }
   ],
   "source": [
    "print(f\" Tableau de depart: \\t{tab_random}\")"
   ]
  },
  {
   "cell_type": "code",
   "execution_count": 21,
   "id": "3a652684-221f-4133-a3fd-c899ef441df0",
   "metadata": {
    "tags": []
   },
   "outputs": [
    {
     "name": "stdout",
     "output_type": "stream",
     "text": [
      " Tableau des 5 plus grands:==>  \t[96 90 79 71 59]\n"
     ]
    }
   ],
   "source": [
    "print(f\" Tableau des 5 plus grands:==>  \\t{tab_max_5}\")"
   ]
  },
  {
   "cell_type": "markdown",
   "id": "c01628d4-17d7-41e1-8a16-272676c6b0a2",
   "metadata": {
    "tags": []
   },
   "source": [
    "# Fin partie Numpy"
   ]
  }
 ],
 "metadata": {
  "kernelspec": {
   "display_name": "Python 3 (ipykernel)",
   "language": "python",
   "name": "python3"
  },
  "language_info": {
   "codemirror_mode": {
    "name": "ipython",
    "version": 3
   },
   "file_extension": ".py",
   "mimetype": "text/x-python",
   "name": "python",
   "nbconvert_exporter": "python",
   "pygments_lexer": "ipython3",
   "version": "3.11.5"
  }
 },
 "nbformat": 4,
 "nbformat_minor": 5
}
