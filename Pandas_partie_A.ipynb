{
 "cells": [
  {
   "cell_type": "markdown",
   "id": "b338e26e-e48a-4692-b6a1-3f036fe958ae",
   "metadata": {
    "tags": []
   },
   "source": [
    "# Etape 1\n",
    "* Importez les bibliothèques nécessaires"
   ]
  },
  {
   "cell_type": "code",
   "execution_count": 1,
   "id": "b1b6736b-651b-4f7d-a8a6-201bdc3aeec8",
   "metadata": {
    "tags": []
   },
   "outputs": [],
   "source": [
    "import pandas as pd"
   ]
  },
  {
   "cell_type": "markdown",
   "id": "b33e98c7-4160-481d-a5be-6687aebb611a",
   "metadata": {},
   "source": [
    "# Etape 2\n",
    "* Importez l'ensemble de données à partir du fichier « etudiant.csv »"
   ]
  },
  {
   "cell_type": "code",
   "execution_count": 2,
   "id": "4f75c397-b48f-4ca2-9503-e34035d03352",
   "metadata": {
    "tags": []
   },
   "outputs": [],
   "source": [
    "data_student=pd.read_csv(\"data/student.csv\")"
   ]
  },
  {
   "cell_type": "markdown",
   "id": "775c4228-d510-4b7c-aa83-326e04820304",
   "metadata": {},
   "source": [
    "# Etape 3\n",
    "* Attribuez-les à une variable appelée df (dataframe)."
   ]
  },
  {
   "cell_type": "code",
   "execution_count": 3,
   "id": "6fc3ddd0-c5ff-4013-a07e-d8e68897712f",
   "metadata": {
    "tags": []
   },
   "outputs": [],
   "source": [
    "df=pd.DataFrame(data_student)"
   ]
  },
  {
   "cell_type": "markdown",
   "id": "0f578e3e-fe9a-41ba-8b4c-7ce0f3627f21",
   "metadata": {
    "tags": []
   },
   "source": [
    "# Etape 4\n",
    "* Pour les besoins de cet exercice, découpez les données de la colone «école» à la colonne «gardien»."
   ]
  },
  {
   "cell_type": "markdown",
   "id": "ad07a221-80c9-4350-9f79-28640f034d02",
   "metadata": {},
   "source": [
    "<p style=\"font-size:28px ;text-align:center;color:blue\"> Quelques infos sur nos donnees</p>"
   ]
  },
  {
   "cell_type": "code",
   "execution_count": 4,
   "id": "43c977d8-9115-4fdf-bd1b-a4ea47141521",
   "metadata": {
    "tags": []
   },
   "outputs": [
    {
     "name": "stdout",
     "output_type": "stream",
     "text": [
      "<class 'pandas.core.frame.DataFrame'>\n",
      "RangeIndex: 395 entries, 0 to 394\n",
      "Data columns (total 34 columns):\n",
      " #   Column      Non-Null Count  Dtype \n",
      "---  ------      --------------  ----- \n",
      " 0   Unnamed: 0  395 non-null    int64 \n",
      " 1   school      395 non-null    object\n",
      " 2   sex         395 non-null    object\n",
      " 3   age         395 non-null    int64 \n",
      " 4   address     395 non-null    object\n",
      " 5   famsize     395 non-null    object\n",
      " 6   Pstatus     395 non-null    object\n",
      " 7   Medu        395 non-null    int64 \n",
      " 8   Fedu        395 non-null    int64 \n",
      " 9   Mjob        395 non-null    object\n",
      " 10  Fjob        395 non-null    object\n",
      " 11  reason      395 non-null    object\n",
      " 12  guardian    395 non-null    object\n",
      " 13  traveltime  395 non-null    int64 \n",
      " 14  studytime   395 non-null    int64 \n",
      " 15  failures    395 non-null    int64 \n",
      " 16  schoolsup   395 non-null    object\n",
      " 17  famsup      395 non-null    object\n",
      " 18  paid        395 non-null    object\n",
      " 19  activities  395 non-null    object\n",
      " 20  nursery     395 non-null    object\n",
      " 21  higher      395 non-null    object\n",
      " 22  internet    395 non-null    object\n",
      " 23  romantic    395 non-null    object\n",
      " 24  famrel      395 non-null    int64 \n",
      " 25  freetime    395 non-null    int64 \n",
      " 26  goout       395 non-null    int64 \n",
      " 27  Dalc        395 non-null    int64 \n",
      " 28  Walc        395 non-null    int64 \n",
      " 29  health      395 non-null    int64 \n",
      " 30  absences    395 non-null    int64 \n",
      " 31  G1          395 non-null    int64 \n",
      " 32  G2          395 non-null    int64 \n",
      " 33  G3          395 non-null    int64 \n",
      "dtypes: int64(17), object(17)\n",
      "memory usage: 105.1+ KB\n"
     ]
    }
   ],
   "source": [
    "df.info()"
   ]
  },
  {
   "cell_type": "code",
   "execution_count": 5,
   "id": "8517e088-87cc-428b-825b-254732dd1516",
   "metadata": {
    "tags": []
   },
   "outputs": [],
   "source": [
    "df=df.iloc[:,1:13]"
   ]
  },
  {
   "cell_type": "code",
   "execution_count": 6,
   "id": "e33b1ef2-ae28-4234-b26f-e1a12567654f",
   "metadata": {
    "tags": []
   },
   "outputs": [
    {
     "data": {
      "text/html": [
       "<div>\n",
       "<style scoped>\n",
       "    .dataframe tbody tr th:only-of-type {\n",
       "        vertical-align: middle;\n",
       "    }\n",
       "\n",
       "    .dataframe tbody tr th {\n",
       "        vertical-align: top;\n",
       "    }\n",
       "\n",
       "    .dataframe thead th {\n",
       "        text-align: right;\n",
       "    }\n",
       "</style>\n",
       "<table border=\"1\" class=\"dataframe\">\n",
       "  <thead>\n",
       "    <tr style=\"text-align: right;\">\n",
       "      <th></th>\n",
       "      <th>school</th>\n",
       "      <th>sex</th>\n",
       "      <th>age</th>\n",
       "      <th>address</th>\n",
       "      <th>famsize</th>\n",
       "      <th>Pstatus</th>\n",
       "      <th>Medu</th>\n",
       "      <th>Fedu</th>\n",
       "      <th>Mjob</th>\n",
       "      <th>Fjob</th>\n",
       "      <th>reason</th>\n",
       "      <th>guardian</th>\n",
       "    </tr>\n",
       "  </thead>\n",
       "  <tbody>\n",
       "    <tr>\n",
       "      <th>0</th>\n",
       "      <td>GP</td>\n",
       "      <td>F</td>\n",
       "      <td>18</td>\n",
       "      <td>U</td>\n",
       "      <td>GT3</td>\n",
       "      <td>A</td>\n",
       "      <td>4</td>\n",
       "      <td>4</td>\n",
       "      <td>at_home</td>\n",
       "      <td>teacher</td>\n",
       "      <td>course</td>\n",
       "      <td>mother</td>\n",
       "    </tr>\n",
       "    <tr>\n",
       "      <th>1</th>\n",
       "      <td>GP</td>\n",
       "      <td>F</td>\n",
       "      <td>17</td>\n",
       "      <td>U</td>\n",
       "      <td>GT3</td>\n",
       "      <td>T</td>\n",
       "      <td>1</td>\n",
       "      <td>1</td>\n",
       "      <td>at_home</td>\n",
       "      <td>other</td>\n",
       "      <td>course</td>\n",
       "      <td>father</td>\n",
       "    </tr>\n",
       "    <tr>\n",
       "      <th>2</th>\n",
       "      <td>GP</td>\n",
       "      <td>F</td>\n",
       "      <td>15</td>\n",
       "      <td>U</td>\n",
       "      <td>LE3</td>\n",
       "      <td>T</td>\n",
       "      <td>1</td>\n",
       "      <td>1</td>\n",
       "      <td>at_home</td>\n",
       "      <td>other</td>\n",
       "      <td>other</td>\n",
       "      <td>mother</td>\n",
       "    </tr>\n",
       "    <tr>\n",
       "      <th>3</th>\n",
       "      <td>GP</td>\n",
       "      <td>F</td>\n",
       "      <td>15</td>\n",
       "      <td>U</td>\n",
       "      <td>GT3</td>\n",
       "      <td>T</td>\n",
       "      <td>4</td>\n",
       "      <td>2</td>\n",
       "      <td>health</td>\n",
       "      <td>services</td>\n",
       "      <td>home</td>\n",
       "      <td>mother</td>\n",
       "    </tr>\n",
       "    <tr>\n",
       "      <th>4</th>\n",
       "      <td>GP</td>\n",
       "      <td>F</td>\n",
       "      <td>16</td>\n",
       "      <td>U</td>\n",
       "      <td>GT3</td>\n",
       "      <td>T</td>\n",
       "      <td>3</td>\n",
       "      <td>3</td>\n",
       "      <td>other</td>\n",
       "      <td>other</td>\n",
       "      <td>home</td>\n",
       "      <td>father</td>\n",
       "    </tr>\n",
       "  </tbody>\n",
       "</table>\n",
       "</div>"
      ],
      "text/plain": [
       "  school sex  age address famsize Pstatus  Medu  Fedu     Mjob      Fjob  \\\n",
       "0     GP   F   18       U     GT3       A     4     4  at_home   teacher   \n",
       "1     GP   F   17       U     GT3       T     1     1  at_home     other   \n",
       "2     GP   F   15       U     LE3       T     1     1  at_home     other   \n",
       "3     GP   F   15       U     GT3       T     4     2   health  services   \n",
       "4     GP   F   16       U     GT3       T     3     3    other     other   \n",
       "\n",
       "   reason guardian  \n",
       "0  course   mother  \n",
       "1  course   father  \n",
       "2   other   mother  \n",
       "3    home   mother  \n",
       "4    home   father  "
      ]
     },
     "execution_count": 6,
     "metadata": {},
     "output_type": "execute_result"
    }
   ],
   "source": [
    "df.head()"
   ]
  },
  {
   "cell_type": "markdown",
   "id": "70bdc4fe-265b-443b-8914-23c28f26b616",
   "metadata": {
    "tags": []
   },
   "source": [
    "<p style=\"font-size:28px ;text-align:center;color:red\"> </p>"
   ]
  },
  {
   "cell_type": "markdown",
   "id": "0dfdf884-5a79-41fe-a9d0-cb7b630a5131",
   "metadata": {
    "tags": []
   },
   "source": [
    "# Etape 5\n",
    "* Créez une fonction lambda qui mettra les chaînes de caractères en majuscule."
   ]
  },
  {
   "cell_type": "code",
   "execution_count": 7,
   "id": "56710202-3a8b-433c-b4ba-32145c15ba2b",
   "metadata": {
    "tags": []
   },
   "outputs": [],
   "source": [
    "maj= lambda string: string.upper()"
   ]
  },
  {
   "cell_type": "markdown",
   "id": "35968c39-356b-413f-b14b-8e692a89220c",
   "metadata": {
    "tags": []
   },
   "source": [
    "# Etape 6 \n",
    "* Mettre en majuscule les variables Mjob et Fjob"
   ]
  },
  {
   "cell_type": "markdown",
   "id": "8b0edfdc-6e90-46b2-a33d-feefcde81a4e",
   "metadata": {
    "tags": []
   },
   "source": [
    "<p style=\"font-size:18px ;text-align:center;color:red\"> on va jouer le jeux, etape 8 oblige  </p>\n"
   ]
  },
  {
   "cell_type": "code",
   "execution_count": 8,
   "id": "9540737a-8e07-4e58-bfba-7ae2df4d8849",
   "metadata": {
    "tags": []
   },
   "outputs": [
    {
     "data": {
      "text/plain": [
       "0       TEACHER\n",
       "1         OTHER\n",
       "2         OTHER\n",
       "3      SERVICES\n",
       "4         OTHER\n",
       "         ...   \n",
       "390    SERVICES\n",
       "391    SERVICES\n",
       "392       OTHER\n",
       "393       OTHER\n",
       "394     AT_HOME\n",
       "Name: Fjob, Length: 395, dtype: object"
      ]
     },
     "execution_count": 8,
     "metadata": {},
     "output_type": "execute_result"
    }
   ],
   "source": [
    "df.loc[:,\"Mjob\"].apply(maj)\n",
    "df.loc[:,\"Fjob\"].apply(maj)"
   ]
  },
  {
   "cell_type": "markdown",
   "id": "aeec38d4-3b65-4797-93c4-d72e8f38dccb",
   "metadata": {},
   "source": [
    "# Etape 7\n",
    "* Affichez les derniers éléments de l'ensemble de données"
   ]
  },
  {
   "cell_type": "code",
   "execution_count": 9,
   "id": "1b32cc2e-f930-40b5-a7fd-ae188eb04465",
   "metadata": {
    "tags": []
   },
   "outputs": [
    {
     "data": {
      "text/html": [
       "<div>\n",
       "<style scoped>\n",
       "    .dataframe tbody tr th:only-of-type {\n",
       "        vertical-align: middle;\n",
       "    }\n",
       "\n",
       "    .dataframe tbody tr th {\n",
       "        vertical-align: top;\n",
       "    }\n",
       "\n",
       "    .dataframe thead th {\n",
       "        text-align: right;\n",
       "    }\n",
       "</style>\n",
       "<table border=\"1\" class=\"dataframe\">\n",
       "  <thead>\n",
       "    <tr style=\"text-align: right;\">\n",
       "      <th></th>\n",
       "      <th>school</th>\n",
       "      <th>sex</th>\n",
       "      <th>age</th>\n",
       "      <th>address</th>\n",
       "      <th>famsize</th>\n",
       "      <th>Pstatus</th>\n",
       "      <th>Medu</th>\n",
       "      <th>Fedu</th>\n",
       "      <th>Mjob</th>\n",
       "      <th>Fjob</th>\n",
       "      <th>reason</th>\n",
       "      <th>guardian</th>\n",
       "    </tr>\n",
       "  </thead>\n",
       "  <tbody>\n",
       "    <tr>\n",
       "      <th>390</th>\n",
       "      <td>MS</td>\n",
       "      <td>M</td>\n",
       "      <td>20</td>\n",
       "      <td>U</td>\n",
       "      <td>LE3</td>\n",
       "      <td>A</td>\n",
       "      <td>2</td>\n",
       "      <td>2</td>\n",
       "      <td>services</td>\n",
       "      <td>services</td>\n",
       "      <td>course</td>\n",
       "      <td>other</td>\n",
       "    </tr>\n",
       "    <tr>\n",
       "      <th>391</th>\n",
       "      <td>MS</td>\n",
       "      <td>M</td>\n",
       "      <td>17</td>\n",
       "      <td>U</td>\n",
       "      <td>LE3</td>\n",
       "      <td>T</td>\n",
       "      <td>3</td>\n",
       "      <td>1</td>\n",
       "      <td>services</td>\n",
       "      <td>services</td>\n",
       "      <td>course</td>\n",
       "      <td>mother</td>\n",
       "    </tr>\n",
       "    <tr>\n",
       "      <th>392</th>\n",
       "      <td>MS</td>\n",
       "      <td>M</td>\n",
       "      <td>21</td>\n",
       "      <td>R</td>\n",
       "      <td>GT3</td>\n",
       "      <td>T</td>\n",
       "      <td>1</td>\n",
       "      <td>1</td>\n",
       "      <td>other</td>\n",
       "      <td>other</td>\n",
       "      <td>course</td>\n",
       "      <td>other</td>\n",
       "    </tr>\n",
       "    <tr>\n",
       "      <th>393</th>\n",
       "      <td>MS</td>\n",
       "      <td>M</td>\n",
       "      <td>18</td>\n",
       "      <td>R</td>\n",
       "      <td>LE3</td>\n",
       "      <td>T</td>\n",
       "      <td>3</td>\n",
       "      <td>2</td>\n",
       "      <td>services</td>\n",
       "      <td>other</td>\n",
       "      <td>course</td>\n",
       "      <td>mother</td>\n",
       "    </tr>\n",
       "    <tr>\n",
       "      <th>394</th>\n",
       "      <td>MS</td>\n",
       "      <td>M</td>\n",
       "      <td>19</td>\n",
       "      <td>U</td>\n",
       "      <td>LE3</td>\n",
       "      <td>T</td>\n",
       "      <td>1</td>\n",
       "      <td>1</td>\n",
       "      <td>other</td>\n",
       "      <td>at_home</td>\n",
       "      <td>course</td>\n",
       "      <td>father</td>\n",
       "    </tr>\n",
       "  </tbody>\n",
       "</table>\n",
       "</div>"
      ],
      "text/plain": [
       "    school sex  age address famsize Pstatus  Medu  Fedu      Mjob      Fjob  \\\n",
       "390     MS   M   20       U     LE3       A     2     2  services  services   \n",
       "391     MS   M   17       U     LE3       T     3     1  services  services   \n",
       "392     MS   M   21       R     GT3       T     1     1     other     other   \n",
       "393     MS   M   18       R     LE3       T     3     2  services     other   \n",
       "394     MS   M   19       U     LE3       T     1     1     other   at_home   \n",
       "\n",
       "     reason guardian  \n",
       "390  course    other  \n",
       "391  course   mother  \n",
       "392  course    other  \n",
       "393  course   mother  \n",
       "394  course   father  "
      ]
     },
     "execution_count": 9,
     "metadata": {},
     "output_type": "execute_result"
    }
   ],
   "source": [
    "df.tail()"
   ]
  },
  {
   "cell_type": "markdown",
   "id": "77736c67-afd5-4140-8369-00870961a759",
   "metadata": {
    "tags": []
   },
   "source": [
    "# Etape 8\n",
    "* Avez-vous remarqué que les données d'origine sont toujours en minuscules? Pourquoi donc? Corrigez-le et mettez en majuscule Mjob et Fjob."
   ]
  },
  {
   "cell_type": "markdown",
   "id": "e4ebef76-016d-48b2-89ca-9421aafd4b24",
   "metadata": {},
   "source": [
    "<p style=\"font-size:18px ;color:green\">Oui nous avons remarque.<br> </br>\n",
    "    help(df.apply) permet de comprendre que la methode apply renvoi un objet independant de df.\n",
    "la methode \"apply \" travail avec une copy parfaite qu'elle applique element par element au lambda \"maj\" puis renvoi le resultat</p>\n"
   ]
  },
  {
   "cell_type": "code",
   "execution_count": 10,
   "id": "e57a1762-c981-466d-822c-a0ecca159ab6",
   "metadata": {
    "tags": []
   },
   "outputs": [
    {
     "data": {
      "text/html": [
       "<div>\n",
       "<style scoped>\n",
       "    .dataframe tbody tr th:only-of-type {\n",
       "        vertical-align: middle;\n",
       "    }\n",
       "\n",
       "    .dataframe tbody tr th {\n",
       "        vertical-align: top;\n",
       "    }\n",
       "\n",
       "    .dataframe thead th {\n",
       "        text-align: right;\n",
       "    }\n",
       "</style>\n",
       "<table border=\"1\" class=\"dataframe\">\n",
       "  <thead>\n",
       "    <tr style=\"text-align: right;\">\n",
       "      <th></th>\n",
       "      <th>school</th>\n",
       "      <th>sex</th>\n",
       "      <th>age</th>\n",
       "      <th>address</th>\n",
       "      <th>famsize</th>\n",
       "      <th>Pstatus</th>\n",
       "      <th>Medu</th>\n",
       "      <th>Fedu</th>\n",
       "      <th>Mjob</th>\n",
       "      <th>Fjob</th>\n",
       "      <th>reason</th>\n",
       "      <th>guardian</th>\n",
       "    </tr>\n",
       "  </thead>\n",
       "  <tbody>\n",
       "    <tr>\n",
       "      <th>390</th>\n",
       "      <td>MS</td>\n",
       "      <td>M</td>\n",
       "      <td>20</td>\n",
       "      <td>U</td>\n",
       "      <td>LE3</td>\n",
       "      <td>A</td>\n",
       "      <td>2</td>\n",
       "      <td>2</td>\n",
       "      <td>SERVICES</td>\n",
       "      <td>SERVICES</td>\n",
       "      <td>course</td>\n",
       "      <td>other</td>\n",
       "    </tr>\n",
       "    <tr>\n",
       "      <th>391</th>\n",
       "      <td>MS</td>\n",
       "      <td>M</td>\n",
       "      <td>17</td>\n",
       "      <td>U</td>\n",
       "      <td>LE3</td>\n",
       "      <td>T</td>\n",
       "      <td>3</td>\n",
       "      <td>1</td>\n",
       "      <td>SERVICES</td>\n",
       "      <td>SERVICES</td>\n",
       "      <td>course</td>\n",
       "      <td>mother</td>\n",
       "    </tr>\n",
       "    <tr>\n",
       "      <th>392</th>\n",
       "      <td>MS</td>\n",
       "      <td>M</td>\n",
       "      <td>21</td>\n",
       "      <td>R</td>\n",
       "      <td>GT3</td>\n",
       "      <td>T</td>\n",
       "      <td>1</td>\n",
       "      <td>1</td>\n",
       "      <td>OTHER</td>\n",
       "      <td>OTHER</td>\n",
       "      <td>course</td>\n",
       "      <td>other</td>\n",
       "    </tr>\n",
       "    <tr>\n",
       "      <th>393</th>\n",
       "      <td>MS</td>\n",
       "      <td>M</td>\n",
       "      <td>18</td>\n",
       "      <td>R</td>\n",
       "      <td>LE3</td>\n",
       "      <td>T</td>\n",
       "      <td>3</td>\n",
       "      <td>2</td>\n",
       "      <td>SERVICES</td>\n",
       "      <td>OTHER</td>\n",
       "      <td>course</td>\n",
       "      <td>mother</td>\n",
       "    </tr>\n",
       "    <tr>\n",
       "      <th>394</th>\n",
       "      <td>MS</td>\n",
       "      <td>M</td>\n",
       "      <td>19</td>\n",
       "      <td>U</td>\n",
       "      <td>LE3</td>\n",
       "      <td>T</td>\n",
       "      <td>1</td>\n",
       "      <td>1</td>\n",
       "      <td>OTHER</td>\n",
       "      <td>AT_HOME</td>\n",
       "      <td>course</td>\n",
       "      <td>father</td>\n",
       "    </tr>\n",
       "  </tbody>\n",
       "</table>\n",
       "</div>"
      ],
      "text/plain": [
       "    school sex  age address famsize Pstatus  Medu  Fedu      Mjob      Fjob  \\\n",
       "390     MS   M   20       U     LE3       A     2     2  SERVICES  SERVICES   \n",
       "391     MS   M   17       U     LE3       T     3     1  SERVICES  SERVICES   \n",
       "392     MS   M   21       R     GT3       T     1     1     OTHER     OTHER   \n",
       "393     MS   M   18       R     LE3       T     3     2  SERVICES     OTHER   \n",
       "394     MS   M   19       U     LE3       T     1     1     OTHER   AT_HOME   \n",
       "\n",
       "     reason guardian  \n",
       "390  course    other  \n",
       "391  course   mother  \n",
       "392  course    other  \n",
       "393  course   mother  \n",
       "394  course   father  "
      ]
     },
     "execution_count": 10,
     "metadata": {},
     "output_type": "execute_result"
    }
   ],
   "source": [
    "df.loc[:,\"Mjob\"]=df.loc[:,\"Mjob\"].apply(maj)\n",
    "df.loc[:,\"Fjob\"]=df.loc[:,\"Fjob\"].apply(maj)\n",
    "df.tail()"
   ]
  },
  {
   "cell_type": "code",
   "execution_count": null,
   "id": "01a93f29-9e23-4b85-94a5-f8af532be757",
   "metadata": {},
   "outputs": [],
   "source": []
  },
  {
   "cell_type": "markdown",
   "id": "f11bad4d-3693-4948-877d-8206d3bf3a0f",
   "metadata": {
    "tags": []
   },
   "source": [
    "# Etape 9\n",
    "* Créez une fonction appelée est_majeur qui renvoie une valeur booléenne dans une nouvelle colonne appelée legal_drinker (considérez comme majeurs les plus de 17ans )"
   ]
  },
  {
   "cell_type": "code",
   "execution_count": 13,
   "id": "325a2e26-a85d-44c5-9ac9-c596eb439678",
   "metadata": {},
   "outputs": [],
   "source": [
    "def est_majeur (data_frame,data_age=\"age\"):\n",
    "    # faire des try /exception pour s'assurer de la conformite des arguments ne ferra qu'allourdir le code\n",
    "    # on fait un minimum confiance a l'user\n",
    "    \"\"\"\n",
    "    est_majeur(DataFrame : 'data_frame',colum age:'data_age'=\"age\")\n",
    "    \n",
    "    renvoie une valeur booléenne dans une nouvelle colonne appelée legal_drinker .\n",
    "    par defaut la colonne des ages serra \"age\"\n",
    "    Ne modifie pas 'data_frame'\n",
    "    \"\"\"\n",
    "    data_frame=data_frame #Je demande a python de cree une variable data_frame local a ma fonction \n",
    "                          # et de lui affecter la valeur de data_frame (qu'il va chercher puis trouver ! ) \n",
    "                           # j'ai pas de methode pour copier proprement mon data frame donc j'improvise\n",
    "    data_frame.loc[:, 'legal_drinker'] = data_frame.loc[:, data_age] > 17 # je met un point d'honeur a utiliser .loc\n",
    "    return data_frame\n",
    "    "
   ]
  },
  {
   "cell_type": "code",
   "execution_count": 14,
   "id": "3da9ec33-32e3-4bae-b882-3ab21e9415a8",
   "metadata": {
    "tags": []
   },
   "outputs": [
    {
     "data": {
      "text/html": [
       "<div>\n",
       "<style scoped>\n",
       "    .dataframe tbody tr th:only-of-type {\n",
       "        vertical-align: middle;\n",
       "    }\n",
       "\n",
       "    .dataframe tbody tr th {\n",
       "        vertical-align: top;\n",
       "    }\n",
       "\n",
       "    .dataframe thead th {\n",
       "        text-align: right;\n",
       "    }\n",
       "</style>\n",
       "<table border=\"1\" class=\"dataframe\">\n",
       "  <thead>\n",
       "    <tr style=\"text-align: right;\">\n",
       "      <th></th>\n",
       "      <th>age</th>\n",
       "      <th>legal_drinker</th>\n",
       "    </tr>\n",
       "  </thead>\n",
       "  <tbody>\n",
       "    <tr>\n",
       "      <th>0</th>\n",
       "      <td>18</td>\n",
       "      <td>True</td>\n",
       "    </tr>\n",
       "    <tr>\n",
       "      <th>1</th>\n",
       "      <td>17</td>\n",
       "      <td>False</td>\n",
       "    </tr>\n",
       "    <tr>\n",
       "      <th>2</th>\n",
       "      <td>15</td>\n",
       "      <td>False</td>\n",
       "    </tr>\n",
       "    <tr>\n",
       "      <th>3</th>\n",
       "      <td>15</td>\n",
       "      <td>False</td>\n",
       "    </tr>\n",
       "    <tr>\n",
       "      <th>4</th>\n",
       "      <td>16</td>\n",
       "      <td>False</td>\n",
       "    </tr>\n",
       "    <tr>\n",
       "      <th>...</th>\n",
       "      <td>...</td>\n",
       "      <td>...</td>\n",
       "    </tr>\n",
       "    <tr>\n",
       "      <th>390</th>\n",
       "      <td>20</td>\n",
       "      <td>True</td>\n",
       "    </tr>\n",
       "    <tr>\n",
       "      <th>391</th>\n",
       "      <td>17</td>\n",
       "      <td>False</td>\n",
       "    </tr>\n",
       "    <tr>\n",
       "      <th>392</th>\n",
       "      <td>21</td>\n",
       "      <td>True</td>\n",
       "    </tr>\n",
       "    <tr>\n",
       "      <th>393</th>\n",
       "      <td>18</td>\n",
       "      <td>True</td>\n",
       "    </tr>\n",
       "    <tr>\n",
       "      <th>394</th>\n",
       "      <td>19</td>\n",
       "      <td>True</td>\n",
       "    </tr>\n",
       "  </tbody>\n",
       "</table>\n",
       "<p>395 rows × 2 columns</p>\n",
       "</div>"
      ],
      "text/plain": [
       "     age  legal_drinker\n",
       "0     18           True\n",
       "1     17          False\n",
       "2     15          False\n",
       "3     15          False\n",
       "4     16          False\n",
       "..   ...            ...\n",
       "390   20           True\n",
       "391   17          False\n",
       "392   21           True\n",
       "393   18           True\n",
       "394   19           True\n",
       "\n",
       "[395 rows x 2 columns]"
      ]
     },
     "execution_count": 14,
     "metadata": {},
     "output_type": "execute_result"
    }
   ],
   "source": [
    "est_majeur(df).loc[:,[\"age\",\"legal_drinker\"]]"
   ]
  },
  {
   "cell_type": "markdown",
   "id": "917ec9dc-7872-40db-9147-2a39da598ad2",
   "metadata": {},
   "source": [
    "# Fin partie A de Pandas"
   ]
  }
 ],
 "metadata": {
  "kernelspec": {
   "display_name": "Python 3 (ipykernel)",
   "language": "python",
   "name": "python3"
  },
  "language_info": {
   "codemirror_mode": {
    "name": "ipython",
    "version": 3
   },
   "file_extension": ".py",
   "mimetype": "text/x-python",
   "name": "python",
   "nbconvert_exporter": "python",
   "pygments_lexer": "ipython3",
   "version": "3.11.5"
  }
 },
 "nbformat": 4,
 "nbformat_minor": 5
}
